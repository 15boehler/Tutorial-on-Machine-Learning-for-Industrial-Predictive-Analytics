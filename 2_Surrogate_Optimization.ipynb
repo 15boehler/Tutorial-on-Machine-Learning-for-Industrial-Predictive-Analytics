{
 "cells": [
  {
   "cell_type": "markdown",
   "metadata": {
    "slideshow": {
     "slide_type": "slide"
    }
   },
   "source": [
    "# Surrogate optimization\n",
    "\n",
    "* Used for optimization of \"heavy\" functions (computationally complex, expensive to evaluate)\n",
    "* The objective function can be \"black box\"\n",
    "* Uses approximation of the \"heavy\" objective function\n",
    "* Takes into account quality of the approximation and uncertainty of the prediction"
   ]
  },
  {
   "cell_type": "markdown",
   "metadata": {
    "slideshow": {
     "slide_type": "slide"
    }
   },
   "source": [
    "#### Optimization procedure:\n",
    "1. Build approximation $\\hat{f}(x)$ of the function $f(x)$ using available data.\n",
    "2. Choose a new point as an argmax of a criterion\n",
    "$$\n",
    "x_{new} = \\arg\\max\\limits_x a(x).\n",
    "$$\n",
    "3. Evaluate $f(x)$ at $x_{new}$.\n",
    "4. Update model $\\hat{f}(x)$ and go to step 2.\n"
   ]
  },
  {
   "cell_type": "markdown",
   "metadata": {
    "slideshow": {
     "slide_type": "slide"
    }
   },
   "source": [
    "### Expected Improvement is one of the most widely used criteria\n",
    "\n",
    "$$\n",
    "EI(x) = \\mathbb{E}_{p(\\hat{f})} \\left [\\max(0, y_{min} - \\hat{f}) \\right ]\n",
    "$$\n",
    "where $\\mu(\\mathbf{x}), \\sigma(\\mathbf{x})$ are mean and variance of GP model at point $x$,\n",
    "$\\Phi(\\cdot)$ - cdf of standard normal distribution,\n",
    "$\\phi(\\cdot)$ - pdf of standard normal distribution.\n",
    "\n",
    "Usually logarithm of EI is used.\n",
    "\n",
    "![EI](EI_vs_logEI.png)"
   ]
  },
  {
   "cell_type": "markdown",
   "metadata": {},
   "source": [
    "### Evaluation of expected improvement\n",
    "\n",
    "$$\n",
    "EI = \\int_{-\\infty}^{y_{min}} (y_{min} - \\hat{y}) \\frac{1}{\\sqrt{2 \\pi} \\sigma} \\exp \\left (-\\frac{(\\hat{y} - \\mu)^2}{2 \\sigma^2} \\right ) d\\hat{y} = \\left |t = \\frac{\\hat{y} - \\mu}{\\sigma}, \n",
    "\\quad z = \\frac{y_{min} - \\mu}{\\sigma}\\right | = \\\\\n",
    "\\int_{-\\infty}^z (y - \\mu - \\sigma t)\\phi(t) dt = (y - \\mu) \\Phi(z) - \\sigma \\int_{-\\infty}^z t \\phi(t) dt\n",
    "$$\n",
    "$$\n",
    "\\int_{-\\infty}^z t\\phi(t)dt = \\int_{-\\infty}^z \\frac{1}{\\sqrt{2 \\pi}}t e^{-t^2 / 2}dt = \\int\\limits_{+\\infty}^{\\dfrac{z^2}{2}}\\dfrac{1}{\\sqrt{2\\pi}}e^{-x}dx = -\\dfrac{1}{\\sqrt{2\\pi}}e^{\\dfrac{z^2}{2}} = - \\phi(z)\n",
    "$$\n",
    "\n",
    "Finally we get:\n",
    "\n",
    "$$\n",
    "\\Rightarrow EI(\\mathbf{x}) = (y_{min} - \\mu(\\mathbf{x})) \\Phi\\left ( \\frac{y_{min} - \\mu(\\mathbf{x})}{\\sigma(\\mathbf{x})} \\right ) + \\sigma(\\mathbf{x}) \\phi \\left ( \\frac{y_{min} - \\mu(\\mathbf{x})}{\\sigma(\\mathbf{x})}\\right ),\n",
    "$$\n",
    "where $\\mu(\\mathbf{x})$ is the posterior mean at $\\mathbf{x}$, $\\sigma(\\mathbf{x})$ is the posterior variance at $\\mathbf{x}$.\n"
   ]
  },
  {
   "cell_type": "markdown",
   "metadata": {
    "slideshow": {
     "slide_type": "slide"
    }
   },
   "source": [
    "### Optimization of criterion\n",
    "\n",
    "Any optimization algorithm could be used.\n",
    "\n",
    "Here we use multi-start with L-BFGS optimization algorithm\n",
    "\n",
    "Multi-start procedure:\n",
    "1. Generate initial set of points $x_1, \\ldots, x_n$. Calculate criterion at each point to obtain $(a(x_1), \\ldots, a(x_n))$.\n",
    "2. Choose $k$ points with the smallest values of criterion.\n",
    "3. Using each point as an initial point run the optimization algorithm (L-BFGS) and obtain $k$ optimization results.\n",
    "4. From all optimization results choose the best one."
   ]
  },
  {
   "cell_type": "markdown",
   "metadata": {
    "slideshow": {
     "slide_type": "skip"
    }
   },
   "source": [
    "### L-BFGS \n",
    "\n",
    "It's a quasi-Newton method of optimization based on the second order Taylor expansion\n",
    "$$\n",
    "f(x_k + p) \\approx f(x_k) + \\nabla f^T(x_k) p + \\frac12 p^T \\mathbf{H}p,\n",
    "$$\n",
    "$$\n",
    "p = -\\mathbf{H}^{-1}\\nabla f^T(x_k) \\approx -\\mathbf{B}_k^{-1} \\nabla f^T(x_k),\n",
    "$$\n",
    "where $\\mathbf{B}_k$ is an approximation of the Hessian $\\mathbf{H}$.\n",
    "\n",
    "Approximation $\\mathbf{B}_k$ is updated at every step by the following rule:\n",
    "$$\n",
    "\\mathbf{B}_{k + 1} = \\mathbf{B}_k - \\frac{\\mathbf{B}_k s_k s_k^T \\mathbf{B}_k}{s_k^T \\mathbf{B}_k s_k} + \\frac{y_k y_k^T}{y_k^T s_k},\n",
    "$$\n",
    "where $s_k = x_{k + 1} - x_k$, $y_k = \\nabla f(x_{k + 1}) - \\nabla f(x_k)$."
   ]
  },
  {
   "cell_type": "code",
   "execution_count": 2,
   "metadata": {
    "slideshow": {
     "slide_type": "skip"
    }
   },
   "outputs": [
    {
     "name": "stderr",
     "output_type": "stream",
     "text": [
      "C:\\Users\\User\\Anaconda2\\envs\\py36\\lib\\site-packages\\sklearn\\cross_validation.py:41: DeprecationWarning: This module was deprecated in version 0.18 in favor of the model_selection module into which all the refactored classes and functions are moved. Also note that the interface of the new CV iterators are different from that of this module. This module will be removed in 0.20.\n",
      "  \"This module will be removed in 0.20.\", DeprecationWarning)\n"
     ]
    }
   ],
   "source": [
    "%matplotlib inline\n",
    "\n",
    "from __future__ import print_function\n",
    "\n",
    "import numpy as np\n",
    "import matplotlib.pyplot as plt\n",
    "from mpl_toolkits.mplot3d import Axes3D\n",
    "from matplotlib import cm\n",
    "from scipy.optimize import minimize\n",
    "\n",
    "from utility import EngineeringModel\n",
    "\n",
    "import xgboost\n",
    "\n",
    "import GPy\n",
    "\n",
    "import bayes_opt\n",
    "\n",
    "import pickle"
   ]
  },
  {
   "cell_type": "markdown",
   "metadata": {},
   "source": [
    "## Load data and blackbox model"
   ]
  },
  {
   "cell_type": "code",
   "execution_count": 70,
   "metadata": {
    "slideshow": {
     "slide_type": "skip"
    }
   },
   "outputs": [],
   "source": [
    "disk_model = pickle.load(open(\"disk_model.pickle\", 'rb'))"
   ]
  },
  {
   "cell_type": "code",
   "execution_count": 74,
   "metadata": {
    "collapsed": true
   },
   "outputs": [],
   "source": [
    "points = np.loadtxt('surrogate_data/disk_points.csv', delimiter=',')[:, [0, 1, 2, 3, 6, 7]]\n",
    "values = np.loadtxt('surrogate_data/disk_values.csv', delimiter=',')"
   ]
  },
  {
   "cell_type": "markdown",
   "metadata": {
    "slideshow": {
     "slide_type": "slide"
    }
   },
   "source": [
    "## Implement multi-start optimization procedure"
   ]
  },
  {
   "cell_type": "code",
   "execution_count": 11,
   "metadata": {
    "collapsed": true,
    "slideshow": {
     "slide_type": "skip"
    }
   },
   "outputs": [],
   "source": [
    "def get_new_point(model, lower_bounds, upper_bounds, \n",
    "                  data=None, multistart=10, criterion='ei', k=1, random_state=None):\n",
    "    \"\"\"\n",
    "    Parameters:\n",
    "        model - GP model of the objective function\n",
    "        lower_bounds, upper_bounds - array-like, lower and upper bounds of x\n",
    "        data - tuple(x_training, y_training)\n",
    "        multistart - number of multistart runs\n",
    "        criterion - aqcuisition function, by default log EI\n",
    "        k - parameter of the LowerConfidenceBound function\n",
    "        random_state - np.random.RandomState\n",
    "        \n",
    "    Returns\n",
    "        tuple - argmin of the objective function and min value of the objective \n",
    "    \"\"\"\n",
    "    if random_state is None:\n",
    "        random_state = np.random.RandomState()\n",
    "\n",
    "    lower_bounds = np.array(lower_bounds).reshape(1, -1)\n",
    "    upper_bounds = np.array(upper_bounds).reshape(1, -1)\n",
    "    \n",
    "    # 1. Generate inital X points (number of points == multistart) in [lower_bounds, upper_bounds]\n",
    "    random_initial_points = np.random.rand(multistart, len(lower_bounds)) * (upper_bounds - lower_bounds) + lower_bounds\n",
    "\n",
    "    def objective(x):\n",
    "        if x.ndim == 1:\n",
    "            x = x.reshape(1, -1)\n",
    "        mean_values, variance = model.predict(x)\n",
    "        std_values = np.sqrt(variance)\n",
    "        if criterion == 'ei':\n",
    "            return -bayes_opt.log_expected_improvement(mean_values, std_values, data[1].min())\n",
    "        elif criterion == 'lcb':\n",
    "            return bayes_opt.lcb(mean_values, std_values, params)\n",
    "        else:\n",
    "            raise NotImplementedError('Criterion is not implemented!')\n",
    "\n",
    "    criterion_value = objective(random_initial_points)\n",
    "    \n",
    "    # 2. From each points from x_random run L-BFGS optimization algorithm, \n",
    "    #    choose the best result and return it\n",
    "    #    Use function minimize: minimize(objective, x_init, method='L-BFGS-B',\n",
    "    #                                    bounds=np.vstack((lb, ub)).T)\n",
    "    #    it returns object with fields 'fun' - optimum function value, 'x' - argmin.\n",
    "    \n",
    "    best_result = None\n",
    "    best_value = np.inf\n",
    "    for random_point in random_initial_points:\n",
    "        result = minimize(objective, random_point, method='L-BFGS-B',\n",
    "                          bounds=np.vstack((lower_bounds, upper_bounds)).T)\n",
    "        if result.fun < best_value:\n",
    "            best_value = result.fun\n",
    "            best_result = result\n",
    "    \n",
    "    return best_result.x, best_result.fun"
   ]
  },
  {
   "cell_type": "code",
   "execution_count": 91,
   "metadata": {
    "collapsed": true
   },
   "outputs": [],
   "source": [
    "initial_training_sample_size = 20\n",
    "training_points = points[:initial_training_sample_size, :]\n",
    "training_values = values[:initial_training_sample_size, [0]] + 40 * values[:initial_training_sample_size, [1]]"
   ]
  },
  {
   "cell_type": "code",
   "execution_count": 77,
   "metadata": {
    "slideshow": {
     "slide_type": "skip"
    }
   },
   "outputs": [
    {
     "name": "stdout",
     "output_type": "stream",
     "text": [
      "[  79.13775675  133.82755135  162.44479622  190.74132703   35.80336811\n",
      "   35.80336811]\n",
      "[-3.32970976]\n",
      "[[ 31.06276516]\n",
      " [ 37.08819389]\n",
      " [ 35.71701098]\n",
      " [ 29.34268446]\n",
      " [ 31.02679453]\n",
      " [ 27.98023401]\n",
      " [ 33.76900553]\n",
      " [ 30.10790989]\n",
      " [ 35.9296632 ]\n",
      " [ 32.69274313]\n",
      " [ 32.37306474]\n",
      " [ 35.43993617]\n",
      " [ 34.80902073]\n",
      " [ 30.42322288]\n",
      " [ 34.05891345]\n",
      " [ 32.3389929 ]\n",
      " [ 32.32388818]\n",
      " [ 29.82280876]\n",
      " [ 33.76418261]\n",
      " [ 32.45551863]]\n"
     ]
    }
   ],
   "source": [
    "lower_bounds = [10, 120, 150, 170, 4, 4]\n",
    "upper_bounds = [110, 140, 168, 200, 50, 50]\n",
    "kernel = GPy.kern.RBF(input_dim=len(lower_bounds), variance=0.5, lengthscale=0.1)\n",
    "model = GPy.models.GPRegression(training_points, training_values, kernel)\n",
    "new_point, new_value = get_new_point(model, lower_bounds, upper_bounds, \n",
    "                                     data=(training_points, training_values), \n",
    "                                     random_state=np.random.RandomState(42))\n",
    "print(new_point)\n",
    "print(new_value)\n",
    "print(training_values)"
   ]
  },
  {
   "cell_type": "code",
   "execution_count": 78,
   "metadata": {
    "collapsed": true
   },
   "outputs": [],
   "source": [
    "def optimization_step(training_points, training_values, \n",
    "                      kernel, objective, \n",
    "                      lower_bounds=None, upper_bounds=None, \n",
    "                      criterion='ei', k=1):\n",
    "    model = GPy.models.GPRegression(training_points, training_values, kernel)\n",
    "    model.optimize_restarts(num_restarts=10, verbose=False)\n",
    "\n",
    "    new_point, criterion_value = get_new_point(model, data=(training_points, training_values), \n",
    "                                           lower_bounds=lower_bounds, upper_bounds=upper_bounds, \n",
    "                                           criterion=criterion, k=k)\n",
    "\n",
    "    new_point = new_point.reshape(1, -1)\n",
    "    training_points = np.vstack([training_points, new_point])\n",
    "    training_values = np.vstack([training_values, np.asarray(objective(new_point)).reshape(1, -1)])\n",
    "    return training_points, training_values, model"
   ]
  },
  {
   "cell_type": "markdown",
   "metadata": {
    "slideshow": {
     "slide_type": "skip"
    }
   },
   "source": [
    "## Rotating disk problem\n",
    "\n",
    "We want to optimize the shape of a rotating disk inside an aircraft engine:\n",
    "\n",
    "![Engine](images/engine_disk.png)\n",
    "\n",
    "There are 6 parameters to optimize with 3 parameters fixed. \n",
    "\n",
    "![Engine](images/rotating_disk.png)\n",
    "\n",
    "See more details on the problem at \n",
    "1. Zaytsev, A. and Burnaev, E., 2017. Large scale variable fidelity surrogate modeling. Annals of Mathematics and Artificial Intelligence, pp.1-20.\n",
    "\n",
    "We thank DATADVANCE company for making the data available."
   ]
  },
  {
   "cell_type": "markdown",
   "metadata": {},
   "source": [
    "\\begin{align}\n",
    "m, u_{max} &\\rightarrow \\min_{r_1, \\ldots, r_6, t_1, t_3, t_5}, \\\\\n",
    "10 &\\leq r_1 \\leq 110, 120 \\leq r_2 \\leq 140, \\nonumber \\\\\n",
    "150 &\\leq r_3 \\leq 168, 170 \\leq r_4 \\leq 200, \\nonumber \\\\\n",
    "4 &\\leq t_1 \\leq 50, 4 \\leq t_3 \\leq 50, \\nonumber \\\\\n",
    "r_5 &= 210, r_6 = 230, t_5 = 32. \\nonumber\n",
    "\\end{align}\n",
    "\n",
    "To handle two objectives we minimize instead $m + 40 u_{max}$ with multiplier $40$ added to keep the scale same."
   ]
  },
  {
   "cell_type": "code",
   "execution_count": 79,
   "metadata": {},
   "outputs": [],
   "source": [
    "def evaluate_objective(point):\n",
    "  if len(np.shape(point)) == 1:\n",
    "    point = np.reshape(points, (1, -1))\n",
    "  return disk_model.evaluate(point, 0) + 40 * disk_model.evaluate(point, 1)"
   ]
  },
  {
   "cell_type": "code",
   "execution_count": 80,
   "metadata": {},
   "outputs": [
    {
     "name": "stdout",
     "output_type": "stream",
     "text": [
      "27.98023401\n",
      "[ 35.39561164]\n"
     ]
    }
   ],
   "source": [
    "updated_points, updated_values, model = optimization_step(training_points, training_values, \n",
    "                  kernel, objective, \n",
    "                  lower_bounds=lower_bounds, upper_bounds=upper_bounds, \n",
    "                  criterion='ei', k=1)\n",
    "\n",
    "print(np.min(updated_values[:-1]))\n",
    "print(updated_values[-1])"
   ]
  },
  {
   "cell_type": "code",
   "execution_count": 81,
   "metadata": {},
   "outputs": [
    {
     "name": "stdout",
     "output_type": "stream",
     "text": [
      "[ 32.12305909]\n",
      "[ 30.21099452]\n",
      "[ 31.70526742]\n"
     ]
    },
    {
     "name": "stderr",
     "output_type": "stream",
     "text": [
      " C:\\Users\\User\\Anaconda2\\envs\\py36\\lib\\site-packages\\GPy\\kern\\src\\rbf.py:35: RuntimeWarning:overflow encountered in square\n"
     ]
    },
    {
     "name": "stdout",
     "output_type": "stream",
     "text": [
      "[ 32.49735151]\n"
     ]
    },
    {
     "name": "stderr",
     "output_type": "stream",
     "text": [
      " C:\\Users\\User\\Anaconda2\\envs\\py36\\lib\\site-packages\\paramz\\transformations.py:109: RuntimeWarning:overflow encountered in expm1\n"
     ]
    },
    {
     "name": "stdout",
     "output_type": "stream",
     "text": [
      "[ 31.94925005]\n",
      "[ 32.49735151]\n",
      "[ 28.8532991]\n",
      "[ 30.82343487]\n",
      "[ 33.34987286]\n",
      "[ 32.6790313]\n"
     ]
    },
    {
     "name": "stderr",
     "output_type": "stream",
     "text": [
      " C:\\Users\\User\\Anaconda2\\envs\\py36\\lib\\site-packages\\GPy\\kern\\src\\stationary.py:160: RuntimeWarning:overflow encountered in true_divide\n",
      " C:\\Users\\User\\Anaconda2\\envs\\py36\\lib\\site-packages\\GPy\\kern\\src\\rbf.py:38: RuntimeWarning:invalid value encountered in multiply\n"
     ]
    },
    {
     "name": "stdout",
     "output_type": "stream",
     "text": [
      "[ 31.94925005]\n",
      "[ 25.44285067]\n",
      "[ 30.87237541]\n",
      "[ 29.22704416]\n",
      "[ 26.93620404]\n",
      "[ 30.86258997]\n",
      "[ 26.631617]\n",
      "[ 29.73437996]\n",
      "[ 28.43807819]\n",
      "[ 26.21156685]\n",
      "[ 25.60993402]\n",
      "[ 25.78223966]\n",
      "[ 27.78509161]\n",
      "[ 31.55508977]\n",
      "[ 31.21752904]\n",
      "[ 28.79678673]\n",
      "[ 25.78530749]\n",
      "[ 26.98244944]\n",
      "[ 27.50634013]\n",
      "[ 25.32215392]\n",
      "[ 25.32537176]\n",
      "[ 25.32045077]\n",
      "[ 38.35309687]\n",
      "[ 26.06991914]\n",
      "[ 27.46315217]\n",
      "[ 26.72199639]\n",
      "[ 29.03316612]\n",
      "[ 27.36347944]\n",
      "[ 27.84897429]\n",
      "[ 27.57969788]\n",
      "[ 27.1419393]\n",
      "[ 26.54612328]\n",
      "[ 27.20631187]\n",
      "[ 25.82443411]\n",
      "[ 27.45316939]\n",
      "[ 29.56638243]\n",
      "[ 26.87164178]\n",
      "[ 26.43267441]\n",
      "[ 37.37417436]\n",
      "[ 27.16959469]\n"
     ]
    }
   ],
   "source": [
    "number_of_new_points = 50\n",
    "updated_points, updated_values = training_points, training_values\n",
    "for index in range(number_of_new_points):\n",
    "  updated_points, updated_values, model = optimization_step(updated_points, updated_values, \n",
    "                  kernel, objective, \n",
    "                  lower_bounds=lower_bounds, upper_bounds=upper_bounds, \n",
    "                  criterion='ei', k=1)\n",
    "  print(updated_values[-1])"
   ]
  },
  {
   "cell_type": "code",
   "execution_count": 82,
   "metadata": {},
   "outputs": [],
   "source": [
    "min_index = np.argmin(training_values)\n",
    "start_point = training_points[[min_index], :]"
   ]
  },
  {
   "cell_type": "code",
   "execution_count": 83,
   "metadata": {},
   "outputs": [],
   "source": [
    "bfgs_result = minimize(evaluate_objective, start_point, method='L-BFGS-B',\n",
    "                       bounds=np.vstack((lower_bounds, upper_bounds)).T, \n",
    "                       callback=evaluate_objective, options={'maxiter' : 50})"
   ]
  },
  {
   "cell_type": "code",
   "execution_count": 84,
   "metadata": {},
   "outputs": [
    {
     "data": {
      "text/plain": [
       "array([[  34.57  ,  123.274 ,  160.2834,  194.513 ,   20.169 ,    5.817 ]])"
      ]
     },
     "execution_count": 84,
     "metadata": {},
     "output_type": "execute_result"
    }
   ],
   "source": [
    "start_point"
   ]
  },
  {
   "cell_type": "code",
   "execution_count": 101,
   "metadata": {
    "scrolled": false,
    "slideshow": {
     "slide_type": "skip"
    }
   },
   "outputs": [
    {
     "data": {
      "text/plain": [
       "<matplotlib.text.Text at 0x167855228d0>"
      ]
     },
     "execution_count": 101,
     "metadata": {},
     "output_type": "execute_result"
    },
    {
     "data": {
      "image/png": "[encoded data removed]",
      "text/plain": [
       "<matplotlib.figure.Figure at 0x167855c32e8>"
      ]
     },
     "metadata": {},
     "output_type": "display_data"
    }
   ],
   "source": [
    "plt.plot([np.min(updated_values[:x]) for x in range(1, len(updated_values))])\n",
    "plt.plot([initial_training_sample_size, initial_training_sample_size],  \n",
    "            [np.min(updated_values), np.max(updated_values)], color='m')\n",
    "plt.xlabel('Point number')\n",
    "plt.ylabel('Current min value')"
   ]
  },
  {
   "cell_type": "markdown",
   "metadata": {
    "collapsed": true,
    "slideshow": {
     "slide_type": "slide"
    }
   },
   "source": [
    "### Hyperparmeters tuning\n",
    "\n",
    "* Almost all machine learning have hyperparameters\n",
    "* Quality of the model depends on the hyperparameters\n",
    "* Quality estimation for one set of hyperparameters can take long time\n",
    "* => Bayesian optimization can be used for hyperparameters tuning."
   ]
  },
  {
   "cell_type": "markdown",
   "metadata": {
    "slideshow": {
     "slide_type": "slide"
    }
   },
   "source": [
    "#### Bayesian optimization for hyperparameter tuning\n",
    "\n",
    "Objective function to optimize\n",
    "* Takes hyperparameters as input\n",
    "* Builds a model (maybe several times in case of cross-validation)\n",
    "* Calculates and returns model quality"
   ]
  },
  {
   "cell_type": "code",
   "execution_count": 102,
   "metadata": {
    "collapsed": true,
    "slideshow": {
     "slide_type": "skip"
    }
   },
   "outputs": [],
   "source": [
    "from sklearn.ensemble import RandomForestRegressor\n",
    "from sklearn.model_selection import train_test_split, cross_val_score\n",
    "from sklearn.preprocessing import StandardScaler\n",
    "\n",
    "from IPython import display"
   ]
  },
  {
   "cell_type": "markdown",
   "metadata": {
    "slideshow": {
     "slide_type": "skip"
    }
   },
   "source": [
    "##### House pricing dataset\n",
    "\n",
    "In this task you need to predict House Sale Price. There are 25 numerical input features like lot area, overall condition rating, house quality, number of kitchens and so on (there were a lot of categorical variables which we removed in this example for simplicity).\n",
    "\n",
    "We are going to tune XGBoost parameters using Bayesian Optimization to obtain more accurate model."
   ]
  },
  {
   "cell_type": "code",
   "execution_count": 104,
   "metadata": {
    "slideshow": {
     "slide_type": "skip"
    }
   },
   "outputs": [
    {
     "name": "stderr",
     "output_type": "stream",
     "text": [
      " C:\\Users\\User\\Anaconda2\\envs\\py36\\lib\\site-packages\\sklearn\\model_selection\\_split.py:2010: FutureWarning:From version 0.21, test_size will always complement train_size unless both are specified.\n"
     ]
    }
   ],
   "source": [
    "data = np.loadtxt('house_pricing.csv')\n",
    "\n",
    "X = data[:, :-1]\n",
    "y = data[:, -1:]\n",
    "\n",
    "X_train, X_test, y_train, y_test = train_test_split(X, y, train_size=0.8, random_state=42)"
   ]
  },
  {
   "cell_type": "markdown",
   "metadata": {
    "slideshow": {
     "slide_type": "skip"
    }
   },
   "source": [
    "We implement `model_error_cv()` function that will be our objective function.  \n",
    "We are going to use RBF kernel in our Bayesian Optimization, the result of optimization will be continuous variables,\n",
    "so we need to preprocess parameters - cast integer parameters to int."
   ]
  },
  {
   "cell_type": "code",
   "execution_count": 105,
   "metadata": {
    "collapsed": true,
    "slideshow": {
     "slide_type": "skip"
    }
   },
   "outputs": [],
   "source": [
    "def wrap_parameters(parameters, scaler=None):\n",
    "    if scaler:\n",
    "        parameters = scaler.transform(parameters)\n",
    "    return parameters\n",
    "\n",
    "\n",
    "def unwrap_parameters(parameters, scaler=None):\n",
    "    if scaler:\n",
    "        parameters = scaler.inverse_transform(parameters)\n",
    "    p = [int(parameters[0]), parameters[1], int(parameters[2]),\n",
    "         max(0, min(parameters[3], 1))]\n",
    "    return p\n",
    "\n",
    "\n",
    "def model_error_cv(parameters, X, y, scaler=None):\n",
    "    errors = []\n",
    "    for p in parameters:\n",
    "        p = unwrap_parameters(p, scaler)\n",
    "        model = xgboost.XGBRegressor(max_depth=p[0],\n",
    "                                     learning_rate=p[1],\n",
    "                                     n_estimators=p[2],\n",
    "                                     subsample=p[3],\n",
    "                                     )\n",
    "\n",
    "        score = cross_val_score(model, X, y, cv=3).mean()\n",
    "        errors.append(score)\n",
    "    return np.array(errors).reshape(-1, 1)"
   ]
  },
  {
   "cell_type": "markdown",
   "metadata": {
    "slideshow": {
     "slide_type": "skip"
    }
   },
   "source": [
    "We scale the parameters using StandardScaler() from sklearn - it is nice to have all the parameters with unit variance and mean zero\n",
    "when using RBF kernel as it is easier to tune lengthscale parameters, because these parameters depend on the range of input variables."
   ]
  },
  {
   "cell_type": "code",
   "execution_count": 108,
   "metadata": {
    "slideshow": {
     "slide_type": "skip"
    }
   },
   "outputs": [],
   "source": [
    "# xgboost params: max_depth, learning_rate, n_estimators, subsample\n",
    "lower_bound = np.array([1, 0.001, 100, 0.2]).reshape(1, -1)\n",
    "upper_bound = np.array([6, 0.1, 1000, 1]).reshape(1, -1)\n",
    "\n",
    "np.random.seed(42)\n",
    "n_init_points = 10\n",
    "initial_parameters = np.random.rand(n_init_points, len(lower_bound)) * (upper_bound - lower_bound) + lower_bound\n",
    "initial_errors = -model_error_cv(initial_parameters, X, y)\n",
    "\n",
    "scaler = StandardScaler()\n",
    "scaler.fit(initial_parameters)\n",
    "lower_bound = scaler.transform(lower_bound)\n",
    "upper_bound = scaler.transform(upper_bound)\n",
    "initial_parameters = wrap_parameters(initial_parameters, scaler)"
   ]
  },
  {
   "cell_type": "markdown",
   "metadata": {
    "slideshow": {
     "slide_type": "skip"
    }
   },
   "source": [
    "It is also nice idea to explicitly constrain lengthscale parameter - it shouldn't be much larger than distance between points in the training set, it shouldn't be much smaller than the distance between points in the training set."
   ]
  },
  {
   "cell_type": "code",
   "execution_count": 109,
   "metadata": {
    "slideshow": {
     "slide_type": "skip"
    }
   },
   "outputs": [
    {
     "name": "stdout",
     "output_type": "stream",
     "text": [
      "WARNING: reconstraining parameters GP_regression.rbf.lengthscale\n",
      "\n",
      "Name : GP regression\n",
      "Objective : 3.8216262628900273\n",
      "Number of Parameters : 3\n",
      "Number of Optimization Parameters : 3\n",
      "Updates : True\n",
      "Parameters:\n",
      "  \u001b[1mGP_regression.         \u001b[0;0m  |            value  |  constraints  |  priors\n",
      "  \u001b[1mrbf.variance           \u001b[0;0m  |   0.418120652234  |      +ve      |        \n",
      "  \u001b[1mrbf.lengthscale        \u001b[0;0m  |    2.31884566295  |  0.001,10.0   |        \n",
      "  \u001b[1mGaussian_noise.variance\u001b[0;0m  |  0.0635911154505  |      +ve      |        \n",
      "  \u001b[1mindex\u001b[0;0m  |  GP_regression.rbf.lengthscale  |  constraints  |  priors\n",
      "  \u001b[1m[0]  \u001b[0;0m  |                     2.31884566  |  0.001,10.0   |        \n"
     ]
    },
    {
     "name": "stderr",
     "output_type": "stream",
     "text": [
      " C:\\Users\\User\\Anaconda2\\envs\\py36\\lib\\site-packages\\GPy\\core\\gp.py:87: UserWarning:Your kernel has a different input dimension 1 then the given X dimension 4. Be very sure this is what you want and you have not forgotten to set the right input dimenion in your kernel\n"
     ]
    }
   ],
   "source": [
    "kernel = GPy.kern.RBF(len(lower_bound), lengthscale=(upper_bound - lower_bound).min() / n_init_points, ARD=False)\n",
    "gp_model = GPy.models.GPRegression(initial_parameters, initial_errors, kernel=kernel)\n",
    "gp_model.rbf.lengthscale.constrain_bounded(0.001, 10)\n",
    "gp_model.optimize()\n",
    "print(gp_model)\n",
    "print(gp_model.rbf.lengthscale)"
   ]
  },
  {
   "cell_type": "code",
   "execution_count": 111,
   "metadata": {
    "scrolled": false,
    "slideshow": {
     "slide_type": "-"
    }
   },
   "outputs": [
    {
     "data": {
      "image/png": "[encoded data removed]",
      "text/plain": [
       "<matplotlib.figure.Figure at 0x16788a79358>"
      ]
     },
     "metadata": {},
     "output_type": "display_data"
    },
    {
     "name": "stdout",
     "output_type": "stream",
     "text": [
      "New parameters: [2, 0.0501270130052077, 979, 0.88071952156181876], new error:\t0.8653525089786221\n",
      "best parameters: [2, 0.039110388501199224, 799, 0.57794806529623188], best error:\t0.8695530799939918\n",
      "  \u001b[1mindex\u001b[0;0m  |  GP_regression.rbf.lengthscale  |  constraints  |  priors\n",
      "  \u001b[1m[0]  \u001b[0;0m  |                     0.70482857  |  0.001,10.0   |        \n"
     ]
    }
   ],
   "source": [
    "budget = 40\n",
    "\n",
    "hyperparameters = initial_parameters\n",
    "errors = initial_errors\n",
    "error_history = [-initial_errors[:i].min() for i in range(1, n_init_points + 1)]\n",
    "objective = lambda x: -model_error_cv(x, X, y, scaler)\n",
    "for i in range(budget):\n",
    "    hyperparameters, errors, gp_model = bayes_opt.optimization_step(hyperparameters, errors, kernel, objective,\n",
    "                                                                    lb=lower_bound, ub=upper_bound)\n",
    "    error_history.append(-errors.min())\n",
    "    # Visualize\n",
    "    display.clear_output(wait=True)\n",
    "    plt.figure(figsize=(8, 6))\n",
    "        \n",
    "    plt.xlabel(\"#iteration\")\n",
    "    plt.ylabel(\"R2\")\n",
    "    plt.plot(error_history)\n",
    "    plt.show()\n",
    "    \n",
    "    print(\"New parameters: {}, new error:\\t{}\\nbest parameters: {}, best error:\\t{}\".format(\n",
    "        unwrap_parameters(hyperparameters[-1], scaler), -errors[-1, 0],\n",
    "        unwrap_parameters(hyperparameters[errors.argmin()], scaler), -errors.min()))\n",
    "    print(gp_model.rbf.lengthscale)"
   ]
  },
  {
   "cell_type": "code",
   "execution_count": null,
   "metadata": {
    "collapsed": true
   },
   "outputs": [],
   "source": []
  }
 ],
 "metadata": {
  "celltoolbar": "Slideshow",
  "kernelspec": {
   "display_name": "Python 3",
   "language": "python",
   "name": "python3"
  },
  "language_info": {
   "codemirror_mode": {
    "name": "ipython",
    "version": 3
   },
   "file_extension": ".py",
   "mimetype": "text/x-python",
   "name": "python",
   "nbconvert_exporter": "python",
   "pygments_lexer": "ipython3",
   "version": "3.6.1"
  }
 },
 "nbformat": 4,
 "nbformat_minor": 2
}
