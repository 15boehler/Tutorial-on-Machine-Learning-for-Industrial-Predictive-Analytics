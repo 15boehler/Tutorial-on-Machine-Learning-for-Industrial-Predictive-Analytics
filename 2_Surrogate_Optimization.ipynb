{
 "cells": [
  {
   "cell_type": "markdown",
   "metadata": {
    "slideshow": {
     "slide_type": "slide"
    }
   },
   "source": [
    "# Surrogate optimization for industrial engineering\n",
    "\n",
    "\n",
    "## Alexey Zaytsev, Ermek Kapushev\n",
    "## Skoltech\n",
    "## a.zaytsev@skoltech.ru\n",
    "\n",
    "### https://github.com/likzet/Tutorial-on-Machine-Learning-for-Industrial-Predictive-Analytics\n",
    "### We thank Maxim Panov for his help during preparation of this notebook."
   ]
  },
  {
   "cell_type": "markdown",
   "metadata": {
    "slideshow": {
     "slide_type": "slide"
    }
   },
   "source": [
    "# Surrogate optimization\n",
    "\n",
    "* Used for optimization of \"heavy\" functions (computationally complex, expensive to evaluate)\n",
    "* The objective function can be \"black box\"\n",
    "* Uses approximation of the \"heavy\" objective function\n",
    "* Takes into account quality of the approximation and uncertainty of the prediction"
   ]
  },
  {
   "cell_type": "markdown",
   "metadata": {
    "slideshow": {
     "slide_type": "slide"
    }
   },
   "source": [
    "#### Optimization procedure:\n",
    "1. Build approximation $\\hat{f}(x)$ of the function $f(x)$ using available data.\n",
    "2. Choose a new point as an argmax of a criterion\n",
    "$$\n",
    "x_{new} = \\arg\\max\\limits_x a(x).\n",
    "$$\n",
    "3. Evaluate $f(x)$ at $x_{new}$.\n",
    "4. Update model $\\hat{f}(x)$ and go to step 2.\n"
   ]
  },
  {
   "cell_type": "markdown",
   "metadata": {
    "slideshow": {
     "slide_type": "slide"
    }
   },
   "source": [
    "### Expected Improvement is one of the most widely used criteria\n",
    "\n",
    "$$\n",
    "EI(x) = \\mathbb{E}_{p(\\hat{f})} \\left [\\max(0, y_{min} - \\hat{f}) \\right ]\n",
    "$$\n",
    "where $\\mu(\\mathbf{x}), \\sigma(\\mathbf{x})$ are mean and variance of GP model at point $x$,\n",
    "$\\Phi(\\cdot)$ - cdf of standard normal distribution,\n",
    "$\\phi(\\cdot)$ - pdf of standard normal distribution.\n",
    "\n",
    "Usually logarithm of EI is used.\n",
    "\n",
    "<img src=\"images/EI_vs_logEI.png\" width=\"800\" >\n"
   ]
  },
  {
   "cell_type": "markdown",
   "metadata": {
    "slideshow": {
     "slide_type": "slide"
    }
   },
   "source": [
    "### Evaluation of expected improvement\n",
    "\n",
    "$$\n",
    "EI = \\int_{-\\infty}^{y_{min}} (y_{min} - \\hat{y}) \\frac{1}{\\sqrt{2 \\pi} \\sigma} \\exp \\left (-\\frac{(\\hat{y} - \\mu)^2}{2 \\sigma^2} \\right ) d\\hat{y} = \\left |t = \\frac{\\hat{y} - \\mu}{\\sigma}, \n",
    "\\quad z = \\frac{y_{min} - \\mu}{\\sigma}\\right | = \\\\\n",
    "\\int_{-\\infty}^z (y - \\mu - \\sigma t)\\phi(t) dt = (y - \\mu) \\Phi(z) - \\sigma \\int_{-\\infty}^z t \\phi(t) dt\n",
    "$$\n",
    "$$\n",
    "\\int_{-\\infty}^z t\\phi(t)dt = \\int_{-\\infty}^z \\frac{1}{\\sqrt{2 \\pi}}t e^{-t^2 / 2}dt = \\int\\limits_{+\\infty}^{\\dfrac{z^2}{2}}\\dfrac{1}{\\sqrt{2\\pi}}e^{-x}dx = -\\dfrac{1}{\\sqrt{2\\pi}}e^{\\dfrac{z^2}{2}} = - \\phi(z)\n",
    "$$\n",
    "\n",
    "Finally we get:\n",
    "\n",
    "$$\n",
    "EI(\\mathbf{x}) = (y_{min} - \\mu(\\mathbf{x})) \\Phi\\left ( \\frac{y_{min} - \\mu(\\mathbf{x})}{\\sigma(\\mathbf{x})} \\right ) + \\sigma(\\mathbf{x}) \\phi \\left ( \\frac{y_{min} - \\mu(\\mathbf{x})}{\\sigma(\\mathbf{x})}\\right ),\n",
    "$$\n",
    "where $\\mu(\\mathbf{x})$ is the posterior mean at $\\mathbf{x}$, $\\sigma(\\mathbf{x})$ is the posterior variance at $\\mathbf{x}$.\n"
   ]
  },
  {
   "cell_type": "markdown",
   "metadata": {
    "slideshow": {
     "slide_type": "slide"
    }
   },
   "source": [
    "### Optimization of criterion\n",
    "\n",
    "Any optimization algorithm could be used.\n",
    "\n",
    "Here we use multi-start with L-BFGS optimization algorithm\n",
    "\n",
    "Multi-start procedure:\n",
    "1. Generate initial set of points $x_1, \\ldots, x_n$. Calculate criterion at each point to obtain $(a(x_1), \\ldots, a(x_n))$.\n",
    "2. Choose $k$ points with the smallest values of criterion.\n",
    "3. Using each point as an initial point run the optimization algorithm (L-BFGS) and obtain $k$ optimization results.\n",
    "4. From all optimization results choose the best one."
   ]
  },
  {
   "cell_type": "markdown",
   "metadata": {
    "slideshow": {
     "slide_type": "skip"
    }
   },
   "source": [
    "### L-BFGS \n",
    "\n",
    "It's a quasi-Newton method of optimization based on the second order Taylor expansion\n",
    "$$\n",
    "f(x_k + p) \\approx f(x_k) + \\nabla f^T(x_k) p + \\frac12 p^T \\mathbf{H}p,\n",
    "$$\n",
    "$$\n",
    "p = -\\mathbf{H}^{-1}\\nabla f^T(x_k) \\approx -\\mathbf{B}_k^{-1} \\nabla f^T(x_k),\n",
    "$$\n",
    "where $\\mathbf{B}_k$ is an approximation of the Hessian $\\mathbf{H}$.\n",
    "\n",
    "Approximation $\\mathbf{B}_k$ is updated at every step by the following rule:\n",
    "$$\n",
    "\\mathbf{B}_{k + 1} = \\mathbf{B}_k - \\frac{\\mathbf{B}_k s_k s_k^T \\mathbf{B}_k}{s_k^T \\mathbf{B}_k s_k} + \\frac{y_k y_k^T}{y_k^T s_k},\n",
    "$$\n",
    "where $s_k = x_{k + 1} - x_k$, $y_k = \\nabla f(x_{k + 1}) - \\nabla f(x_k)$."
   ]
  },
  {
   "cell_type": "code",
   "execution_count": 23,
   "metadata": {
    "slideshow": {
     "slide_type": "notes"
    }
   },
   "outputs": [],
   "source": [
    "%matplotlib inline\n",
    "\n",
    "from __future__ import print_function\n",
    "\n",
    "import numpy as np\n",
    "from matplotlib import cm\n",
    "import matplotlib.pyplot as plt\n",
    "from mpl_toolkits.mplot3d import Axes3D\n",
    "import pickle\n",
    "from scipy.optimize import minimize\n",
    "import xgboost\n",
    "\n",
    "from utility import EngineeringModel\n",
    "\n",
    "import GPy\n",
    "import bayes_opt\n",
    "\n"
   ]
  },
  {
   "cell_type": "code",
   "execution_count": 24,
   "metadata": {
    "slideshow": {
     "slide_type": "notes"
    }
   },
   "outputs": [
    {
     "data": {
      "text/plain": [
       "<module 'bayes_opt' from 'C:\\\\Users\\\\User\\\\Documents\\\\repository\\\\Tutorial-on-Machine-Learning-for-Industrial-Predictive-Analytics\\\\bayes_opt.py'>"
      ]
     },
     "execution_count": 24,
     "metadata": {},
     "output_type": "execute_result"
    }
   ],
   "source": [
    "import utility\n",
    "import imp\n",
    "imp.reload(bayes_opt)"
   ]
  },
  {
   "cell_type": "markdown",
   "metadata": {
    "slideshow": {
     "slide_type": "slide"
    }
   },
   "source": [
    "## Load data and blackbox model"
   ]
  },
  {
   "cell_type": "code",
   "execution_count": 6,
   "metadata": {
    "collapsed": true,
    "slideshow": {
     "slide_type": "fragment"
    }
   },
   "outputs": [],
   "source": [
    "disk_model = pickle.load(open(\"disk_model.pickle\", 'rb'))"
   ]
  },
  {
   "cell_type": "code",
   "execution_count": 7,
   "metadata": {
    "collapsed": true,
    "slideshow": {
     "slide_type": "fragment"
    }
   },
   "outputs": [],
   "source": [
    "initial_sample_size = 20\n",
    "points = np.loadtxt('surrogate_data/disk_points.csv', delimiter=',')[:initial_sample_size, [0, 1, 2, 3, 6, 7]]\n",
    "values = np.loadtxt('surrogate_data/disk_values.csv', delimiter=',')[:initial_sample_size, :]"
   ]
  },
  {
   "cell_type": "markdown",
   "metadata": {
    "slideshow": {
     "slide_type": "slide"
    }
   },
   "source": [
    "## Implement multi-start optimization procedure"
   ]
  },
  {
   "cell_type": "code",
   "execution_count": 25,
   "metadata": {
    "collapsed": true,
    "slideshow": {
     "slide_type": "skip"
    }
   },
   "outputs": [],
   "source": [
    "from bayes_opt import get_new_point, optimization_step"
   ]
  },
  {
   "cell_type": "code",
   "execution_count": 9,
   "metadata": {},
   "outputs": [],
   "source": [
    "initial_training_sample_size = 20\n",
    "training_points = points[:initial_training_sample_size, :]\n",
    "training_values = values[:initial_training_sample_size, [0]] + 40 * values[:initial_training_sample_size, [1]]"
   ]
  },
  {
   "cell_type": "code",
   "execution_count": 19,
   "metadata": {
    "slideshow": {
     "slide_type": "skip"
    }
   },
   "outputs": [
    {
     "name": "stdout",
     "output_type": "stream",
     "text": [
      "[  60.95458873  130.19091775  159.17182597  185.28637662   27.43911081\n",
      "   27.43911081]\n",
      "-3.32970975837\n",
      "[ 31.06276516  37.08819389  35.71701098  29.34268446  31.02679453\n",
      "  27.98023401  33.76900553  30.10790989  35.9296632   32.69274313\n",
      "  32.37306474  35.43993617  34.80902073  30.42322288  34.05891345\n",
      "  32.3389929   32.32388818  29.82280876  33.76418261  32.45551863]\n"
     ]
    }
   ],
   "source": [
    "lower_bounds = [10, 120, 150, 170, 4, 4]\n",
    "upper_bounds = [110, 140, 168, 200, 50, 50]\n",
    "kernel = GPy.kern.RBF(input_dim=len(lower_bounds), variance=0.5, lengthscale=0.1)\n",
    "model = GPy.models.GPRegression(training_points, training_values, kernel)\n",
    "new_point, new_value = get_new_point(model, lower_bounds, upper_bounds, \n",
    "                                     data=(training_points, training_values), \n",
    "                                     random_state=np.random.RandomState(42))\n",
    "print(new_point)\n",
    "print(new_value[0])\n",
    "print(training_values[:, 0])"
   ]
  },
  {
   "cell_type": "markdown",
   "metadata": {
    "slideshow": {
     "slide_type": "slide"
    }
   },
   "source": [
    "## Rotating disk problem\n",
    "\n",
    "We want to optimize the shape of a rotating disk inside an aircraft engine:\n",
    "\n",
    "<img src=\"images/engine_disk.png\" width=\"300\" >\n",
    "\n",
    "There are 6 parameters to optimize with 3 parameters fixed. \n",
    "\n",
    "<img src=\"images/rotating_disk.png\" width=\"300\">\n",
    "\n",
    "See more details on the problem at \n",
    "1. Zaytsev, A. and Burnaev, E., 2017. Large scale variable fidelity surrogate modeling. Annals of Mathematics and Artificial Intelligence, pp.1-20.\n",
    "\n",
    "We thank DATADVANCE company for making the data available."
   ]
  },
  {
   "cell_type": "markdown",
   "metadata": {
    "slideshow": {
     "slide_type": "slide"
    }
   },
   "source": [
    "\\begin{align}\n",
    "m, u_{max} &\\rightarrow \\min_{r_1, \\ldots, r_6, t_1, t_3, t_5}, \\\\\n",
    "10 &\\leq r_1 \\leq 110, 120 \\leq r_2 \\leq 140, \\nonumber \\\\\n",
    "150 &\\leq r_3 \\leq 168, 170 \\leq r_4 \\leq 200, \\nonumber \\\\\n",
    "4 &\\leq t_1 \\leq 50, 4 \\leq t_3 \\leq 50, \\nonumber \\\\\n",
    "r_5 &= 210, r_6 = 230, t_5 = 32. \\nonumber\n",
    "\\end{align}\n",
    "\n",
    "To handle two objectives we minimize instead $m + 40 u_{max}$ with multiplier $40$ added to keep the scale same."
   ]
  },
  {
   "cell_type": "code",
   "execution_count": 27,
   "metadata": {
    "collapsed": true,
    "slideshow": {
     "slide_type": "subslide"
    }
   },
   "outputs": [],
   "source": [
    "def evaluate_objective(point):\n",
    "  if len(np.shape(point)) == 1:\n",
    "    point = np.reshape(points, (1, -1))\n",
    "  return disk_model.evaluate(point, 0) + 40 * disk_model.evaluate(point, 1)"
   ]
  },
  {
   "cell_type": "code",
   "execution_count": 31,
   "metadata": {
    "slideshow": {
     "slide_type": "slide"
    }
   },
   "outputs": [
    {
     "name": "stderr",
     "output_type": "stream",
     "text": [
      " C:\\Users\\User\\Anaconda2\\envs\\py36\\lib\\site-packages\\paramz\\transformations.py:109: RuntimeWarning:overflow encountered in expm1\n"
     ]
    },
    {
     "name": "stdout",
     "output_type": "stream",
     "text": [
      "27.98023401\n",
      "31.4616657772\n"
     ]
    }
   ],
   "source": [
    "updated_points, updated_values, model = optimization_step(training_points, training_values, \n",
    "                  kernel, evaluate_objective, \n",
    "                  lower_bounds=lower_bounds, upper_bounds=upper_bounds, \n",
    "                  criterion='ei', k=1)\n",
    "\n",
    "print(np.min(updated_values[:-1]))\n",
    "print(updated_values[-1][0])"
   ]
  },
  {
   "cell_type": "code",
   "execution_count": 32,
   "metadata": {
    "slideshow": {
     "slide_type": "slide"
    }
   },
   "outputs": [
    {
     "name": "stdout",
     "output_type": "stream",
     "text": [
      "32.3292435845\n"
     ]
    },
    {
     "name": "stderr",
     "output_type": "stream",
     "text": [
      " C:\\Users\\User\\Anaconda2\\envs\\py36\\lib\\site-packages\\paramz\\transformations.py:109: RuntimeWarning:overflow encountered in expm1\n"
     ]
    },
    {
     "name": "stdout",
     "output_type": "stream",
     "text": [
      "28.9795684281\n",
      "28.2762480819\n",
      "32.4973515098\n"
     ]
    },
    {
     "name": "stderr",
     "output_type": "stream",
     "text": [
      " C:\\Users\\User\\Anaconda2\\envs\\py36\\lib\\site-packages\\GPy\\kern\\src\\rbf.py:35: RuntimeWarning:overflow encountered in square\n",
      " C:\\Users\\User\\Anaconda2\\envs\\py36\\lib\\site-packages\\GPy\\kern\\src\\stationary.py:160: RuntimeWarning:overflow encountered in true_divide\n",
      " C:\\Users\\User\\Anaconda2\\envs\\py36\\lib\\site-packages\\GPy\\kern\\src\\rbf.py:38: RuntimeWarning:invalid value encountered in multiply\n"
     ]
    },
    {
     "name": "stdout",
     "output_type": "stream",
     "text": [
      "31.9492500469\n",
      "42.5592835764\n",
      "32.7635148555\n",
      "32.7635148555\n",
      "33.9343348722\n",
      "32.6712225764\n",
      "29.8118038454\n",
      "27.7287145566\n",
      "27.5303236306\n",
      "27.3582606167\n",
      "27.5154817147\n",
      "32.8891324152\n",
      "30.1256927866\n",
      "26.0947279878\n",
      "28.0842636238\n",
      "25.3358780575\n",
      "25.3003799716\n",
      "25.2729796754\n",
      "31.4211603761\n",
      "33.3498728622\n",
      "25.2708946887\n",
      "25.262428441\n",
      "36.9218545532\n",
      "37.545956757\n",
      "28.903521824\n",
      "28.2416632089\n",
      "34.9824171974\n",
      "31.0490956519\n",
      "30.3596404159\n",
      "31.8266096662\n",
      "25.9277668847\n",
      "25.4344517072\n",
      "25.4196140631\n",
      "26.0973880393\n",
      "29.9842281917\n",
      "30.439939969\n",
      "26.7694490715\n",
      "28.4441282623\n",
      "31.3575445766\n",
      "25.4802993974\n",
      "26.7002680604\n",
      "27.4526330701\n",
      "27.8094751933\n",
      "36.7235292922\n",
      "27.0195626719\n",
      "27.9326821467\n"
     ]
    }
   ],
   "source": [
    "number_of_new_points = 50\n",
    "updated_points, updated_values = training_points, training_values\n",
    "for index in range(number_of_new_points):\n",
    "  updated_points, updated_values, model = optimization_step(updated_points, updated_values, \n",
    "                  kernel, evaluate_objective, \n",
    "                  lower_bounds=lower_bounds, upper_bounds=upper_bounds, \n",
    "                  criterion='ei', k=1)\n",
    "  print(updated_values[-1][0])"
   ]
  },
  {
   "cell_type": "code",
   "execution_count": 41,
   "metadata": {
    "scrolled": false,
    "slideshow": {
     "slide_type": "slide"
    }
   },
   "outputs": [
    {
     "data": {
      "text/plain": [
       "<matplotlib.text.Text at 0x24f04e16400>"
      ]
     },
     "execution_count": 41,
     "metadata": {},
     "output_type": "execute_result"
    },
    {
     "data": {
      "image/png": "[encoded data removed]",
      "text/plain": [
       "<matplotlib.figure.Figure at 0x24f013ec6a0>"
      ]
     },
     "metadata": {},
     "output_type": "display_data"
    }
   ],
   "source": [
    "# Usage of surrogate optimization provides an improvement over the initial solution\n",
    "\n",
    "plt.plot([np.min(updated_values[:x]) for x in range(1, len(updated_values))])\n",
    "plt.plot([initial_training_sample_size, initial_training_sample_size],  \n",
    "            [np.min(updated_values), np.max(updated_values)], color='m')\n",
    "plt.xlabel('Point number')\n",
    "plt.ylabel('Current min value')"
   ]
  },
  {
   "cell_type": "markdown",
   "metadata": {
    "slideshow": {
     "slide_type": "slide"
    }
   },
   "source": [
    "## Surrogate optimization\n",
    "\n",
    "* allows to optimize complex and heavy functions.\n",
    "* works well in real problems.\n",
    "\n",
    "### Alexey Zaytsev, Evgeny Burnaev\n",
    "### a.zaytsev@skoltech.ru\n",
    "### https://github.com/likzet/Tutorial-on-Machine-Learning-for-Industrial-Predictive-Analytics"
   ]
  },
  {
   "cell_type": "markdown",
   "metadata": {
    "slideshow": {
     "slide_type": "slide"
    }
   },
   "source": [
    "### Hyperparmeters tuning\n",
    "\n",
    "* Almost all machine learning have hyperparameters\n",
    "* Quality of the model depends on the hyperparameters\n",
    "* Quality estimation for one set of hyperparameters can take long time\n",
    "* => Bayesian optimization can be used for hyperparameters tuning."
   ]
  },
  {
   "cell_type": "markdown",
   "metadata": {
    "slideshow": {
     "slide_type": "slide"
    }
   },
   "source": [
    "#### Bayesian optimization for hyperparameter tuning\n",
    "\n",
    "Objective function to optimize\n",
    "* Takes hyperparameters as input\n",
    "* Builds a model (maybe several times in case of cross-validation)\n",
    "* Calculates and returns model quality"
   ]
  },
  {
   "cell_type": "code",
   "execution_count": 34,
   "metadata": {
    "collapsed": true,
    "slideshow": {
     "slide_type": "notes"
    }
   },
   "outputs": [],
   "source": [
    "from sklearn.ensemble import RandomForestRegressor\n",
    "from sklearn.model_selection import train_test_split, cross_val_score\n",
    "from sklearn.preprocessing import StandardScaler\n",
    "\n",
    "from IPython import display"
   ]
  },
  {
   "cell_type": "markdown",
   "metadata": {
    "slideshow": {
     "slide_type": "skip"
    }
   },
   "source": [
    "##### House pricing dataset\n",
    "\n",
    "In this task you need to predict House Sale Price. There are 25 numerical input features like lot area, overall condition rating, house quality, number of kitchens and so on (there were a lot of categorical variables which we removed in this example for simplicity).\n",
    "\n",
    "We are going to tune XGBoost parameters using Bayesian Optimization to obtain more accurate model."
   ]
  },
  {
   "cell_type": "code",
   "execution_count": 35,
   "metadata": {
    "slideshow": {
     "slide_type": "slide"
    }
   },
   "outputs": [
    {
     "name": "stderr",
     "output_type": "stream",
     "text": [
      " C:\\Users\\User\\Anaconda2\\envs\\py36\\lib\\site-packages\\sklearn\\model_selection\\_split.py:2010: FutureWarning:From version 0.21, test_size will always complement train_size unless both are specified.\n"
     ]
    }
   ],
   "source": [
    "data = np.loadtxt('house_pricing.csv')\n",
    "\n",
    "X = data[:, :-1]\n",
    "y = data[:, -1:]\n",
    "\n",
    "X_train, X_test, y_train, y_test = train_test_split(X, y, train_size=0.8, random_state=42)"
   ]
  },
  {
   "cell_type": "markdown",
   "metadata": {
    "slideshow": {
     "slide_type": "slide"
    }
   },
   "source": [
    "We implement `model_error_cv()` function that will be our objective function.  \n",
    "We are going to use RBF kernel in our Bayesian Optimization, the result of optimization will be continuous variables,\n",
    "so we need to preprocess parameters - cast integer parameters to int."
   ]
  },
  {
   "cell_type": "code",
   "execution_count": 36,
   "metadata": {
    "collapsed": true,
    "slideshow": {
     "slide_type": "notes"
    }
   },
   "outputs": [],
   "source": [
    "def wrap_parameters(parameters, scaler=None):\n",
    "    if scaler:\n",
    "        parameters = scaler.transform(parameters)\n",
    "    return parameters\n",
    "\n",
    "\n",
    "def unwrap_parameters(parameters, scaler=None):\n",
    "    if scaler:\n",
    "        parameters = scaler.inverse_transform(parameters)\n",
    "    p = [int(parameters[0]), parameters[1], int(parameters[2]),\n",
    "         max(0, min(parameters[3], 1))]\n",
    "    return p\n",
    "\n",
    "\n",
    "def model_error_cv(parameters, X, y, scaler=None):\n",
    "    errors = []\n",
    "    for p in parameters:\n",
    "        p = unwrap_parameters(p, scaler)\n",
    "        model = xgboost.XGBRegressor(max_depth=p[0],\n",
    "                                     learning_rate=p[1],\n",
    "                                     n_estimators=p[2],\n",
    "                                     subsample=p[3],\n",
    "                                     )\n",
    "\n",
    "        score = cross_val_score(model, X, y, cv=3).mean()\n",
    "        errors.append(score)\n",
    "    return np.array(errors).reshape(-1, 1)"
   ]
  },
  {
   "cell_type": "markdown",
   "metadata": {
    "slideshow": {
     "slide_type": "slide"
    }
   },
   "source": [
    "We scale the parameters using StandardScaler() from sklearn - it is nice to have all the parameters with unit variance and mean zero\n",
    "when using RBF kernel as it is easier to tune lengthscale parameters, because these parameters depend on the range of input variables."
   ]
  },
  {
   "cell_type": "code",
   "execution_count": 37,
   "metadata": {
    "collapsed": true,
    "slideshow": {
     "slide_type": "slide"
    }
   },
   "outputs": [],
   "source": [
    "# xgboost params: max_depth, learning_rate, n_estimators, subsample\n",
    "lower_bound = np.array([1, 0.001, 100, 0.2]).reshape(1, -1)\n",
    "upper_bound = np.array([6, 0.1, 1000, 1]).reshape(1, -1)\n",
    "\n",
    "np.random.seed(42)\n",
    "n_init_points = 10\n",
    "initial_parameters = np.random.rand(n_init_points, len(lower_bound)) * (upper_bound - lower_bound) + lower_bound\n",
    "initial_errors = -model_error_cv(initial_parameters, X, y)\n",
    "\n",
    "scaler = StandardScaler()\n",
    "scaler.fit(initial_parameters)\n",
    "lower_bound = scaler.transform(lower_bound)\n",
    "upper_bound = scaler.transform(upper_bound)\n",
    "initial_parameters = wrap_parameters(initial_parameters, scaler)"
   ]
  },
  {
   "cell_type": "markdown",
   "metadata": {
    "slideshow": {
     "slide_type": "slide"
    }
   },
   "source": [
    "It is also nice idea to explicitly constrain lengthscale parameter - it shouldn't be much larger than distance between points in the training set, it shouldn't be much smaller than the distance between points in the training set."
   ]
  },
  {
   "cell_type": "code",
   "execution_count": 38,
   "metadata": {
    "slideshow": {
     "slide_type": "skip"
    }
   },
   "outputs": [
    {
     "name": "stdout",
     "output_type": "stream",
     "text": [
      "WARNING: reconstraining parameters GP_regression.rbf.lengthscale\n",
      "\n",
      "Name : GP regression\n",
      "Objective : 3.8216262628900273\n",
      "Number of Parameters : 3\n",
      "Number of Optimization Parameters : 3\n",
      "Updates : True\n",
      "Parameters:\n",
      "  \u001b[1mGP_regression.         \u001b[0;0m  |            value  |  constraints  |  priors\n",
      "  \u001b[1mrbf.variance           \u001b[0;0m  |   0.418120652234  |      +ve      |        \n",
      "  \u001b[1mrbf.lengthscale        \u001b[0;0m  |    2.31884566295  |  0.001,10.0   |        \n",
      "  \u001b[1mGaussian_noise.variance\u001b[0;0m  |  0.0635911154505  |      +ve      |        \n",
      "  \u001b[1mindex\u001b[0;0m  |  GP_regression.rbf.lengthscale  |  constraints  |  priors\n",
      "  \u001b[1m[0]  \u001b[0;0m  |                     2.31884566  |  0.001,10.0   |        \n"
     ]
    },
    {
     "name": "stderr",
     "output_type": "stream",
     "text": [
      " C:\\Users\\User\\Anaconda2\\envs\\py36\\lib\\site-packages\\GPy\\core\\gp.py:87: UserWarning:Your kernel has a different input dimension 1 then the given X dimension 4. Be very sure this is what you want and you have not forgotten to set the right input dimenion in your kernel\n"
     ]
    }
   ],
   "source": [
    "kernel = GPy.kern.RBF(len(lower_bound), lengthscale=(upper_bound - lower_bound).min() / n_init_points, ARD=False)\n",
    "gp_model = GPy.models.GPRegression(initial_parameters, initial_errors, kernel=kernel)\n",
    "gp_model.rbf.lengthscale.constrain_bounded(0.001, 10)\n",
    "gp_model.optimize()\n",
    "print(gp_model)\n",
    "print(gp_model.rbf.lengthscale)"
   ]
  },
  {
   "cell_type": "code",
   "execution_count": 40,
   "metadata": {
    "scrolled": false,
    "slideshow": {
     "slide_type": "slide"
    }
   },
   "outputs": [
    {
     "data": {
      "image/png": "[encoded data removed]",
      "text/plain": [
       "<matplotlib.figure.Figure at 0x24f01e4f6a0>"
      ]
     },
     "metadata": {},
     "output_type": "display_data"
    },
    {
     "name": "stdout",
     "output_type": "stream",
     "text": [
      "New parameters: [5, 0.074013327586441691, 763, 0.7900066875672056], new error:\t0.8531984955525157\n",
      "best parameters: [2, 0.056532859182003244, 604, 0.64875037722830908], best error:\t0.8692659651150061\n",
      "  \u001b[1mindex\u001b[0;0m  |  GP_regression.rbf.lengthscale  |  constraints  |  priors\n",
      "  \u001b[1m[0]  \u001b[0;0m  |                     0.55107371  |  0.001,10.0   |        \n"
     ]
    }
   ],
   "source": [
    "budget = 40\n",
    "\n",
    "hyperparameters = initial_parameters\n",
    "errors = initial_errors\n",
    "error_history = [-initial_errors[:i].min() for i in range(1, n_init_points + 1)]\n",
    "objective = lambda x: -model_error_cv(x, X, y, scaler)\n",
    "for i in range(budget):\n",
    "    hyperparameters, errors, gp_model = bayes_opt.optimization_step(hyperparameters, errors, kernel, objective,\n",
    "                                                                    lower_bounds=lower_bound, upper_bounds=upper_bound)\n",
    "    error_history.append(-errors.min())\n",
    "    # Visualize\n",
    "    display.clear_output(wait=True)\n",
    "    plt.figure(figsize=(8, 6))\n",
    "        \n",
    "    plt.xlabel(\"#iteration\")\n",
    "    plt.ylabel(\"R2\")\n",
    "    plt.plot(error_history)\n",
    "    plt.show()\n",
    "    \n",
    "    print(\"New parameters: {}, new error:\\t{}\\nbest parameters: {}, best error:\\t{}\".format(\n",
    "        unwrap_parameters(hyperparameters[-1], scaler), -errors[-1, 0],\n",
    "        unwrap_parameters(hyperparameters[errors.argmin()], scaler), -errors.min()))\n",
    "    print(gp_model.rbf.lengthscale)"
   ]
  },
  {
   "cell_type": "markdown",
   "metadata": {
    "collapsed": true,
    "slideshow": {
     "slide_type": "slide"
    }
   },
   "source": [
    "## Using Bayesian optimization we can improve performace of Machine Learning algorithms by tuning hyperparameters."
   ]
  },
  {
   "cell_type": "code",
   "execution_count": null,
   "metadata": {
    "collapsed": true
   },
   "outputs": [],
   "source": [
    "### Topics covered:\n",
    "\n",
    "1.\n",
    "2. Optimization of Expected Improvement.\n",
    "2. Gaussian process regression main assumption.\n",
    "3. Estimation of parameters of Gaussian Process Regression model\n",
    "4. Gaussian Process Classification and more complex Gaussian-process-based models\n",
    "5. Selection of covariance function for Gaussian process regression\n",
    "\n",
    "### Alexey Zaytsev\n",
    "### a.zaytsev@skoltech.ru\n",
    "\n",
    "### For notebook see https://github.com/likzet/Tutorial-on-Machine-Learning-for-Industrial-Predictive-Analytics"
   ]
  }
 ],
 "metadata": {
  "celltoolbar": "Slideshow",
  "kernelspec": {
   "display_name": "Python 3",
   "language": "python",
   "name": "python3"
  },
  "language_info": {
   "codemirror_mode": {
    "name": "ipython",
    "version": 3
   },
   "file_extension": ".py",
   "mimetype": "text/x-python",
   "name": "python",
   "nbconvert_exporter": "python",
   "pygments_lexer": "ipython3",
   "version": "3.6.1"
  }
 },
 "nbformat": 4,
 "nbformat_minor": 2
}
